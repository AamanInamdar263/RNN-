{
 "cells": [
  {
   "cell_type": "code",
   "execution_count": 2,
   "metadata": {},
   "outputs": [],
   "source": [
    "# Step 1: Import Libraries and Load the Model\n",
    "import numpy as np\n",
    "import tensorflow as tf\n",
    "from tensorflow.keras.datasets import imdb\n",
    "from tensorflow.keras.preprocessing import sequence\n",
    "from tensorflow.keras.models import load_model"
   ]
  },
  {
   "cell_type": "code",
   "execution_count": 3,
   "metadata": {},
   "outputs": [],
   "source": [
    "\n",
    "# Load the IMDB dataset word index\n",
    "word_index = imdb.get_word_index()\n",
    "reverse_word_index = {value: key for key, value in word_index.items()}"
   ]
  },
  {
   "cell_type": "code",
   "execution_count": 4,
   "metadata": {},
   "outputs": [
    {
     "name": "stderr",
     "output_type": "stream",
     "text": [
      "WARNING:absl:Compiled the loaded model, but the compiled metrics have yet to be built. `model.compile_metrics` will be empty until you train or evaluate the model.\n"
     ]
    },
    {
     "data": {
      "text/html": [
       "<pre style=\"white-space:pre;overflow-x:auto;line-height:normal;font-family:Menlo,'DejaVu Sans Mono',consolas,'Courier New',monospace\"><span style=\"font-weight: bold\">Model: \"sequential_1\"</span>\n",
       "</pre>\n"
      ],
      "text/plain": [
       "\u001b[1mModel: \"sequential_1\"\u001b[0m\n"
      ]
     },
     "metadata": {},
     "output_type": "display_data"
    },
    {
     "data": {
      "text/html": [
       "<pre style=\"white-space:pre;overflow-x:auto;line-height:normal;font-family:Menlo,'DejaVu Sans Mono',consolas,'Courier New',monospace\">┏━━━━━━━━━━━━━━━━━━━━━━━━━━━━━━━━━┳━━━━━━━━━━━━━━━━━━━━━━━━┳━━━━━━━━━━━━━━━┓\n",
       "┃<span style=\"font-weight: bold\"> Layer (type)                    </span>┃<span style=\"font-weight: bold\"> Output Shape           </span>┃<span style=\"font-weight: bold\">       Param # </span>┃\n",
       "┡━━━━━━━━━━━━━━━━━━━━━━━━━━━━━━━━━╇━━━━━━━━━━━━━━━━━━━━━━━━╇━━━━━━━━━━━━━━━┩\n",
       "│ embedding_1 (<span style=\"color: #0087ff; text-decoration-color: #0087ff\">Embedding</span>)         │ (<span style=\"color: #00af00; text-decoration-color: #00af00\">32</span>, <span style=\"color: #00af00; text-decoration-color: #00af00\">500</span>, <span style=\"color: #00af00; text-decoration-color: #00af00\">128</span>)         │     <span style=\"color: #00af00; text-decoration-color: #00af00\">1,280,000</span> │\n",
       "├─────────────────────────────────┼────────────────────────┼───────────────┤\n",
       "│ simple_rnn_1 (<span style=\"color: #0087ff; text-decoration-color: #0087ff\">SimpleRNN</span>)        │ (<span style=\"color: #00af00; text-decoration-color: #00af00\">32</span>, <span style=\"color: #00af00; text-decoration-color: #00af00\">128</span>)              │        <span style=\"color: #00af00; text-decoration-color: #00af00\">32,896</span> │\n",
       "├─────────────────────────────────┼────────────────────────┼───────────────┤\n",
       "│ dense_1 (<span style=\"color: #0087ff; text-decoration-color: #0087ff\">Dense</span>)                 │ (<span style=\"color: #00af00; text-decoration-color: #00af00\">32</span>, <span style=\"color: #00af00; text-decoration-color: #00af00\">1</span>)                │           <span style=\"color: #00af00; text-decoration-color: #00af00\">129</span> │\n",
       "└─────────────────────────────────┴────────────────────────┴───────────────┘\n",
       "</pre>\n"
      ],
      "text/plain": [
       "┏━━━━━━━━━━━━━━━━━━━━━━━━━━━━━━━━━┳━━━━━━━━━━━━━━━━━━━━━━━━┳━━━━━━━━━━━━━━━┓\n",
       "┃\u001b[1m \u001b[0m\u001b[1mLayer (type)                   \u001b[0m\u001b[1m \u001b[0m┃\u001b[1m \u001b[0m\u001b[1mOutput Shape          \u001b[0m\u001b[1m \u001b[0m┃\u001b[1m \u001b[0m\u001b[1m      Param #\u001b[0m\u001b[1m \u001b[0m┃\n",
       "┡━━━━━━━━━━━━━━━━━━━━━━━━━━━━━━━━━╇━━━━━━━━━━━━━━━━━━━━━━━━╇━━━━━━━━━━━━━━━┩\n",
       "│ embedding_1 (\u001b[38;5;33mEmbedding\u001b[0m)         │ (\u001b[38;5;34m32\u001b[0m, \u001b[38;5;34m500\u001b[0m, \u001b[38;5;34m128\u001b[0m)         │     \u001b[38;5;34m1,280,000\u001b[0m │\n",
       "├─────────────────────────────────┼────────────────────────┼───────────────┤\n",
       "│ simple_rnn_1 (\u001b[38;5;33mSimpleRNN\u001b[0m)        │ (\u001b[38;5;34m32\u001b[0m, \u001b[38;5;34m128\u001b[0m)              │        \u001b[38;5;34m32,896\u001b[0m │\n",
       "├─────────────────────────────────┼────────────────────────┼───────────────┤\n",
       "│ dense_1 (\u001b[38;5;33mDense\u001b[0m)                 │ (\u001b[38;5;34m32\u001b[0m, \u001b[38;5;34m1\u001b[0m)                │           \u001b[38;5;34m129\u001b[0m │\n",
       "└─────────────────────────────────┴────────────────────────┴───────────────┘\n"
      ]
     },
     "metadata": {},
     "output_type": "display_data"
    },
    {
     "data": {
      "text/html": [
       "<pre style=\"white-space:pre;overflow-x:auto;line-height:normal;font-family:Menlo,'DejaVu Sans Mono',consolas,'Courier New',monospace\"><span style=\"font-weight: bold\"> Total params: </span><span style=\"color: #00af00; text-decoration-color: #00af00\">1,313,027</span> (5.01 MB)\n",
       "</pre>\n"
      ],
      "text/plain": [
       "\u001b[1m Total params: \u001b[0m\u001b[38;5;34m1,313,027\u001b[0m (5.01 MB)\n"
      ]
     },
     "metadata": {},
     "output_type": "display_data"
    },
    {
     "data": {
      "text/html": [
       "<pre style=\"white-space:pre;overflow-x:auto;line-height:normal;font-family:Menlo,'DejaVu Sans Mono',consolas,'Courier New',monospace\"><span style=\"font-weight: bold\"> Trainable params: </span><span style=\"color: #00af00; text-decoration-color: #00af00\">1,313,025</span> (5.01 MB)\n",
       "</pre>\n"
      ],
      "text/plain": [
       "\u001b[1m Trainable params: \u001b[0m\u001b[38;5;34m1,313,025\u001b[0m (5.01 MB)\n"
      ]
     },
     "metadata": {},
     "output_type": "display_data"
    },
    {
     "data": {
      "text/html": [
       "<pre style=\"white-space:pre;overflow-x:auto;line-height:normal;font-family:Menlo,'DejaVu Sans Mono',consolas,'Courier New',monospace\"><span style=\"font-weight: bold\"> Non-trainable params: </span><span style=\"color: #00af00; text-decoration-color: #00af00\">0</span> (0.00 B)\n",
       "</pre>\n"
      ],
      "text/plain": [
       "\u001b[1m Non-trainable params: \u001b[0m\u001b[38;5;34m0\u001b[0m (0.00 B)\n"
      ]
     },
     "metadata": {},
     "output_type": "display_data"
    },
    {
     "data": {
      "text/html": [
       "<pre style=\"white-space:pre;overflow-x:auto;line-height:normal;font-family:Menlo,'DejaVu Sans Mono',consolas,'Courier New',monospace\"><span style=\"font-weight: bold\"> Optimizer params: </span><span style=\"color: #00af00; text-decoration-color: #00af00\">2</span> (12.00 B)\n",
       "</pre>\n"
      ],
      "text/plain": [
       "\u001b[1m Optimizer params: \u001b[0m\u001b[38;5;34m2\u001b[0m (12.00 B)\n"
      ]
     },
     "metadata": {},
     "output_type": "display_data"
    }
   ],
   "source": [
    "# Load the pre-trained model with ReLU activation\n",
    "model = load_model('simple_rnn_imdb.h5')\n",
    "model.summary()"
   ]
  },
  {
   "cell_type": "code",
   "execution_count": 6,
   "metadata": {},
   "outputs": [
    {
     "data": {
      "text/plain": [
       "[array([[-0.01558108,  0.08699945, -0.04971647, ..., -0.1174474 ,\n",
       "          0.12619121, -0.03103101],\n",
       "        [-0.02783637, -0.03600791, -0.01306903, ...,  0.0024529 ,\n",
       "          0.04976441, -0.02507548],\n",
       "        [-0.03506657, -0.07560074, -0.02815056, ..., -0.02957705,\n",
       "          0.13898334, -0.00016417],\n",
       "        ...,\n",
       "        [ 0.01811982, -0.000276  , -0.02754956, ..., -0.04602171,\n",
       "         -0.01156243, -0.01553326],\n",
       "        [-0.01414451,  0.05701976,  0.00241996, ..., -0.02591026,\n",
       "          0.0026464 , -0.01592648],\n",
       "        [-0.01552192,  0.04684756,  0.01345341, ...,  0.01204089,\n",
       "         -0.00245801,  0.03435738]], dtype=float32),\n",
       " array([[ 0.14742869,  0.07515833,  0.11156212, ..., -0.07801819,\n",
       "          0.132203  ,  0.11208471],\n",
       "        [-0.08085024,  0.00755536, -0.07735732, ...,  0.14505059,\n",
       "         -0.136261  , -0.04031679],\n",
       "        [ 0.09582222,  0.06087543,  0.1199839 , ...,  0.10861105,\n",
       "         -0.01759298,  0.0216758 ],\n",
       "        ...,\n",
       "        [ 0.0436893 , -0.07941763,  0.0468543 , ..., -0.13663594,\n",
       "          0.00051595, -0.03371517],\n",
       "        [-0.0588754 , -0.11346334, -0.15024143, ...,  0.04140459,\n",
       "          0.13988478, -0.1963522 ],\n",
       "        [ 0.09960225,  0.05574053,  0.07974764, ..., -0.11830602,\n",
       "         -0.02220729, -0.1557744 ]], dtype=float32),\n",
       " array([[-1.5250404e-02,  1.7020617e-02, -5.4282159e-02, ...,\n",
       "          6.9185458e-02, -5.6506716e-02, -1.8276848e-02],\n",
       "        [ 3.1302642e-02, -2.6656376e-02, -5.3617328e-02, ...,\n",
       "          6.0488963e-03,  2.7196051e-04,  1.8540145e-01],\n",
       "        [-1.3773292e-02, -2.2085685e-02,  6.9632977e-02, ...,\n",
       "         -3.4613825e-02, -3.4708060e-02,  1.3083430e-01],\n",
       "        ...,\n",
       "        [-4.3052521e-02,  3.3958700e-02, -2.0624858e-01, ...,\n",
       "         -5.6196064e-02,  5.6397568e-02, -1.3979535e-01],\n",
       "        [-2.9251182e-01, -1.7008942e-01,  3.5678223e-02, ...,\n",
       "          1.1219014e-01,  2.9713338e-02, -2.6778495e-02],\n",
       "        [-1.3504951e-01, -1.1683557e-01, -2.9858898e-02, ...,\n",
       "         -4.5993268e-02,  3.9920498e-02, -3.6585256e-02]], dtype=float32),\n",
       " array([-0.0272249 , -0.02212125, -0.02949675,  0.00065658, -0.03279633,\n",
       "         0.01947186, -0.02385671, -0.0075615 , -0.02114959, -0.03118635,\n",
       "        -0.01185444,  0.00355339,  0.01347202, -0.00689002, -0.02219575,\n",
       "        -0.03254285, -0.03757362, -0.00033118, -0.03578709,  0.0273052 ,\n",
       "        -0.00167118, -0.042497  , -0.04620693, -0.03458025, -0.01609707,\n",
       "        -0.00444298, -0.04119087, -0.00703792,  0.01039305, -0.05068549,\n",
       "        -0.02431592, -0.02210296, -0.02888542, -0.01033281, -0.02358558,\n",
       "        -0.02140375, -0.00394223,  0.00412766, -0.01281817, -0.01546851,\n",
       "        -0.03486965, -0.0378126 ,  0.02318062, -0.0020663 , -0.02725356,\n",
       "        -0.02703187, -0.00899134, -0.02800725, -0.03768582,  0.02480968,\n",
       "        -0.04490464, -0.01042825, -0.02900624, -0.011933  , -0.02060806,\n",
       "        -0.03162139,  0.02299109, -0.00934899, -0.00229789,  0.01246744,\n",
       "        -0.00275477,  0.02231379, -0.00054602, -0.01053163, -0.00339189,\n",
       "        -0.02566429, -0.00787492, -0.04012637, -0.01016935, -0.00815038,\n",
       "        -0.00123736, -0.00090177,  0.00291111, -0.02564425, -0.04600809,\n",
       "        -0.01266349, -0.04116557, -0.00745403,  0.02498645, -0.02689395,\n",
       "         0.00064154,  0.00680624, -0.02425587, -0.02390394, -0.02303754,\n",
       "        -0.03817028,  0.02124728, -0.01792068, -0.01929005, -0.00159986,\n",
       "        -0.06159784, -0.05909807,  0.00288725, -0.03962284,  0.00716399,\n",
       "        -0.00623241, -0.02522369, -0.02746014, -0.00773264, -0.00321189,\n",
       "        -0.03815546, -0.0364647 , -0.03136405,  0.01127838, -0.0006971 ,\n",
       "        -0.01259596, -0.02074522, -0.022252  , -0.04024981, -0.00420874,\n",
       "        -0.0163607 ,  0.010814  ,  0.00204207, -0.01534174, -0.02072562,\n",
       "        -0.00465894, -0.01172549,  0.02516056, -0.0043294 , -0.03319191,\n",
       "         0.00167479, -0.03947851, -0.00317074, -0.02684351,  0.03480489,\n",
       "        -0.01711741,  0.00570181, -0.01028778], dtype=float32),\n",
       " array([[ 0.30994782],\n",
       "        [ 0.10290132],\n",
       "        [ 0.02327083],\n",
       "        [ 0.09121551],\n",
       "        [-0.2141351 ],\n",
       "        [ 0.00948229],\n",
       "        [-0.34713587],\n",
       "        [-0.75632113],\n",
       "        [-0.17195052],\n",
       "        [-0.06847554],\n",
       "        [ 0.18825388],\n",
       "        [-0.16536827],\n",
       "        [ 0.18276413],\n",
       "        [-0.09200928],\n",
       "        [ 0.95384896],\n",
       "        [-0.18224823],\n",
       "        [-0.07948086],\n",
       "        [-0.06683636],\n",
       "        [-0.1038579 ],\n",
       "        [-0.15841301],\n",
       "        [-0.21366107],\n",
       "        [-0.01928302],\n",
       "        [-0.09245795],\n",
       "        [-0.17136264],\n",
       "        [-0.07504328],\n",
       "        [ 0.05331928],\n",
       "        [-0.0082649 ],\n",
       "        [ 0.1969878 ],\n",
       "        [ 0.04398958],\n",
       "        [ 0.40667453],\n",
       "        [-0.05930288],\n",
       "        [-0.454233  ],\n",
       "        [-0.04879326],\n",
       "        [-0.7096164 ],\n",
       "        [-0.17728163],\n",
       "        [-0.17488624],\n",
       "        [-0.7022635 ],\n",
       "        [ 0.16783175],\n",
       "        [ 0.03576331],\n",
       "        [ 0.07287043],\n",
       "        [ 0.29358464],\n",
       "        [ 0.13529952],\n",
       "        [ 0.03353153],\n",
       "        [-0.11348705],\n",
       "        [-0.2002966 ],\n",
       "        [-0.11362784],\n",
       "        [ 0.19649845],\n",
       "        [-0.05696044],\n",
       "        [-0.04999109],\n",
       "        [-0.02345378],\n",
       "        [-0.8946146 ],\n",
       "        [-0.28925335],\n",
       "        [-0.23819289],\n",
       "        [ 0.05611338],\n",
       "        [ 0.13874932],\n",
       "        [ 0.14295411],\n",
       "        [-0.4086914 ],\n",
       "        [ 0.07831486],\n",
       "        [-0.20267925],\n",
       "        [ 0.11385082],\n",
       "        [-0.21214724],\n",
       "        [ 0.14429577],\n",
       "        [ 0.28517374],\n",
       "        [-0.06077455],\n",
       "        [ 0.03970391],\n",
       "        [-0.07798592],\n",
       "        [ 0.15268287],\n",
       "        [-0.163122  ],\n",
       "        [-0.2687738 ],\n",
       "        [ 0.7405346 ],\n",
       "        [ 0.16229261],\n",
       "        [ 0.13781817],\n",
       "        [-0.1134193 ],\n",
       "        [ 0.25285712],\n",
       "        [ 0.19136238],\n",
       "        [ 0.01938381],\n",
       "        [-0.08297045],\n",
       "        [ 0.1399983 ],\n",
       "        [-0.4477316 ],\n",
       "        [-0.17523204],\n",
       "        [-0.2053095 ],\n",
       "        [ 0.09557385],\n",
       "        [-0.0930202 ],\n",
       "        [-0.11300787],\n",
       "        [-0.01717798],\n",
       "        [-0.13288333],\n",
       "        [ 0.20578758],\n",
       "        [ 0.4465314 ],\n",
       "        [-0.1318396 ],\n",
       "        [-0.00393638],\n",
       "        [ 0.45479625],\n",
       "        [-0.14461848],\n",
       "        [ 0.18083923],\n",
       "        [ 0.1378388 ],\n",
       "        [-0.10242741],\n",
       "        [ 0.03152534],\n",
       "        [-0.16450924],\n",
       "        [-0.11013446],\n",
       "        [-0.24920148],\n",
       "        [ 0.01907122],\n",
       "        [-0.02678576],\n",
       "        [ 0.17131642],\n",
       "        [ 0.19247068],\n",
       "        [ 0.15440641],\n",
       "        [ 0.02175541],\n",
       "        [-0.07982115],\n",
       "        [-0.16516109],\n",
       "        [-0.16849117],\n",
       "        [-0.03395403],\n",
       "        [-0.00528738],\n",
       "        [-0.2371575 ],\n",
       "        [ 0.08640775],\n",
       "        [ 0.26195252],\n",
       "        [ 0.22864008],\n",
       "        [ 0.17867227],\n",
       "        [ 0.1094262 ],\n",
       "        [-0.11462497],\n",
       "        [ 0.12512784],\n",
       "        [-0.09070285],\n",
       "        [ 0.08793224],\n",
       "        [ 0.1436549 ],\n",
       "        [-0.09317496],\n",
       "        [ 0.18861328],\n",
       "        [ 0.64247924],\n",
       "        [ 0.09730362],\n",
       "        [-0.29277134],\n",
       "        [-0.01454367],\n",
       "        [-0.24819088]], dtype=float32),\n",
       " array([-0.41483143], dtype=float32)]"
      ]
     },
     "execution_count": 6,
     "metadata": {},
     "output_type": "execute_result"
    }
   ],
   "source": [
    "model.get_weights()"
   ]
  },
  {
   "cell_type": "code",
   "execution_count": 7,
   "metadata": {},
   "outputs": [],
   "source": [
    "# Step 2: Helper Functions\n",
    "# Function to decode reviews\n",
    "def decode_review(encoded_review):\n",
    "    return ' '.join([reverse_word_index.get(i - 3, '?') for i in encoded_review])\n",
    "\n",
    "# Function to preprocess user input\n",
    "def preprocess_text(text):\n",
    "    words = text.lower().split()\n",
    "    encoded_review = [word_index.get(word, 2) + 3 for word in words]\n",
    "    padded_review = sequence.pad_sequences([encoded_review], maxlen=500)\n",
    "    return padded_review"
   ]
  },
  {
   "cell_type": "code",
   "execution_count": 8,
   "metadata": {},
   "outputs": [],
   "source": [
    "### Prediction  function\n",
    "\n",
    "def predict_sentiment(review):\n",
    "    preprocessed_input=preprocess_text(review)\n",
    "\n",
    "    prediction=model.predict(preprocessed_input)\n",
    "\n",
    "    sentiment = 'Positive' if prediction[0][0] > 0.5 else 'Negative'\n",
    "    \n",
    "    return sentiment, prediction[0][0]\n",
    "\n"
   ]
  },
  {
   "cell_type": "code",
   "execution_count": 11,
   "metadata": {},
   "outputs": [
    {
     "name": "stdout",
     "output_type": "stream",
     "text": [
      "\u001b[1m1/1\u001b[0m \u001b[32m━━━━━━━━━━━━━━━━━━━━\u001b[0m\u001b[37m\u001b[0m \u001b[1m0s\u001b[0m 76ms/step\n",
      "Review: This movie was fantastic! The acting was great and the plot was thrilling.\n",
      "Sentiment: Positive\n",
      "Prediction Score: 0.7082151770591736\n"
     ]
    }
   ],
   "source": [
    "# Step 4: User Input and Prediction\n",
    "# Example review for prediction\n",
    "example_review = \"This movie was fantastic! The acting was great and the plot was thrilling.\"\n",
    "\n",
    "sentiment,score=predict_sentiment(example_review)\n",
    "\n",
    "print(f'Review: {example_review}')\n",
    "print(f'Sentiment: {sentiment}')\n",
    "print(f'Prediction Score: {score}')"
   ]
  },
  {
   "cell_type": "code",
   "execution_count": null,
   "metadata": {},
   "outputs": [],
   "source": []
  },
  {
   "cell_type": "code",
   "execution_count": null,
   "metadata": {},
   "outputs": [],
   "source": []
  },
  {
   "cell_type": "code",
   "execution_count": null,
   "metadata": {},
   "outputs": [],
   "source": []
  },
  {
   "cell_type": "code",
   "execution_count": null,
   "metadata": {},
   "outputs": [],
   "source": []
  }
 ],
 "metadata": {
  "kernelspec": {
   "display_name": "Python 3",
   "language": "python",
   "name": "python3"
  },
  "language_info": {
   "codemirror_mode": {
    "name": "ipython",
    "version": 3
   },
   "file_extension": ".py",
   "mimetype": "text/x-python",
   "name": "python",
   "nbconvert_exporter": "python",
   "pygments_lexer": "ipython3",
   "version": "3.12.4"
  }
 },
 "nbformat": 4,
 "nbformat_minor": 2
}
